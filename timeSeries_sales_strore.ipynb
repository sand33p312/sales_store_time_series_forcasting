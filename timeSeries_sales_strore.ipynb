{
 "cells": [
  {
   "cell_type": "code",
   "execution_count": 1,
   "id": "b94bd638-aaeb-4c66-a25d-915513fbb5f3",
   "metadata": {},
   "outputs": [],
   "source": [
    "import pandas as pd\n",
    "import torch\n",
    "import torch.nn as nn\n",
    "import torch.optim as optim\n",
    "from torchvision import datasets,transforms\n",
    "from torch.utils.data import DataLoader"
   ]
  },
  {
   "cell_type": "code",
   "execution_count": 2,
   "id": "c9689d0d-f187-4128-9e7e-c4e883495714",
   "metadata": {},
   "outputs": [
    {
     "name": "stderr",
     "output_type": "stream",
     "text": [
      "/var/folders/d3/sh_q5_g16hz6flw_fh4nr7nh0000gn/T/ipykernel_48952/2414586291.py:14: FutureWarning: DataFrame.interpolate with object dtype is deprecated and will raise in a future version. Call obj.infer_objects(copy=False) before interpolating instead.\n",
      "  df_oil.interpolate(method='linear',inplace=True)\n"
     ]
    }
   ],
   "source": [
    "## preprocessing of data\n",
    "\n",
    "transform = transforms.Compose([transforms.ToTensor(),transforms.Normalize((0.5,),(0.5,))])\n",
    "\n",
    "holiday_event_data_path = '/Users/sandeep/Desktop/store-sales-time-series-forecasting/holidays_events.csv'\n",
    "oil_data_path = '/Users/sandeep/Desktop/store-sales-time-series-forecasting/oil.csv'\n",
    "stores_data_path = '/Users/sandeep/Desktop/store-sales-time-series-forecasting/stores.csv'\n",
    "test_data_path = '/Users/sandeep/Desktop/store-sales-time-series-forecasting/test.csv'\n",
    "train_data_path = '/Users/sandeep/Desktop/store-sales-time-series-forecasting/train.csv'\n",
    "transactions_data_path = '/Users/sandeep/Desktop/store-sales-time-series-forecasting/transactions.csv'\n",
    "\n",
    "df_oil=pd.read_csv(oil_data_path)\n",
    "df_oil = df_oil.infer_objects(copy=False)\n",
    "df_oil.interpolate(method='linear',inplace=True)\n",
    "df_oil.bfill(inplace=True)\n",
    "\n",
    "df_train=pd.read_csv(train_data_path)\n",
    "df_test=pd.read_csv(test_data_path)\n",
    "df_stores=pd.read_csv(stores_data_path)\n",
    "df_holiday_event=pd.read_csv(holiday_event_data_path)\n",
    "df_transactions=pd.read_csv(transactions_data_path)\n",
    "# print(df_oil.head(50))"
   ]
  },
  {
   "cell_type": "code",
   "execution_count": 3,
   "id": "dae60c62-d058-42ba-969f-ee025fc117a1",
   "metadata": {},
   "outputs": [],
   "source": [
    "## now merge all data into one file with specific features that are helpfull for prediction\n",
    "\n",
    "train_data=pd.merge(df_train,df_stores,on='store_nbr',how='left') ## merge df_train and df_test with df_stores with respect to commen store_nbr column\n",
    "test_data=pd.merge(df_test,df_stores,on='store_nbr',how='left')\n",
    "\n",
    "train_data=pd.merge(train_data,df_oil,on='date',how='left') ## merge train_data and test_data with df_oil with respect to date column\n",
    "test_data=pd.merge(test_data,df_oil,on='date',how='left')\n",
    "\n",
    "train_data=pd.merge(train_data,df_holiday_event,on='date',how='left') ## merge train_data and test_data with df_holiday_event with respect to date column\n",
    "test_data=pd.merge(test_data,df_holiday_event,on='date',how='left')\n",
    "\n",
    "train_data=pd.merge(train_data,df_transactions,on=['date','store_nbr'],how='left')\n",
    "test_data=pd.merge(test_data,df_transactions,on=['date','store_nbr'],how='left')\n"
   ]
  },
  {
   "cell_type": "code",
   "execution_count": 4,
   "id": "af444018-ec98-42a5-80f3-f5531d2dd4fa",
   "metadata": {},
   "outputs": [
    {
     "name": "stdout",
     "output_type": "stream",
     "text": [
      "   id        date  store_nbr      family  sales  onpromotion   city  \\\n",
      "0   0  2013-01-01          1  AUTOMOTIVE    0.0            0  Quito   \n",
      "1   1  2013-01-01          1   BABY CARE    0.0            0  Quito   \n",
      "2   2  2013-01-01          1      BEAUTY    0.0            0  Quito   \n",
      "3   3  2013-01-01          1   BEVERAGES    0.0            0  Quito   \n",
      "4   4  2013-01-01          1       BOOKS    0.0            0  Quito   \n",
      "\n",
      "       state type_x  cluster  dcoilwtico   type_y    locale locale_name  \\\n",
      "0  Pichincha      D       13       93.14  Holiday  National     Ecuador   \n",
      "1  Pichincha      D       13       93.14  Holiday  National     Ecuador   \n",
      "2  Pichincha      D       13       93.14  Holiday  National     Ecuador   \n",
      "3  Pichincha      D       13       93.14  Holiday  National     Ecuador   \n",
      "4  Pichincha      D       13       93.14  Holiday  National     Ecuador   \n",
      "\n",
      "          description transferred  transactions  \n",
      "0  Primer dia del ano       False           NaN  \n",
      "1  Primer dia del ano       False           NaN  \n",
      "2  Primer dia del ano       False           NaN  \n",
      "3  Primer dia del ano       False           NaN  \n",
      "4  Primer dia del ano       False           NaN  \n"
     ]
    }
   ],
   "source": [
    "# print(train_data.head())\n",
    "## now han"
   ]
  }
 ],
 "metadata": {
  "kernelspec": {
   "display_name": "Python 3 (ipykernel)",
   "language": "python",
   "name": "python3"
  },
  "language_info": {
   "codemirror_mode": {
    "name": "ipython",
    "version": 3
   },
   "file_extension": ".py",
   "mimetype": "text/x-python",
   "name": "python",
   "nbconvert_exporter": "python",
   "pygments_lexer": "ipython3",
   "version": "3.12.2"
  }
 },
 "nbformat": 4,
 "nbformat_minor": 5
}
